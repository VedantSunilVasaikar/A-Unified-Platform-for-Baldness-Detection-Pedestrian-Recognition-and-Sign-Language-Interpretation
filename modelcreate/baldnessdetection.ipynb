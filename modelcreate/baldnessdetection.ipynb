{
 "cells": [
  {
   "cell_type": "code",
   "execution_count": 4,
   "metadata": {},
   "outputs": [],
   "source": [
    "import os\n",
    "bald_directory = 'E:/null classes/Train/Bald'\n",
    "not_bald_directory = 'E:/null classes/Train/NotBald'\n",
    "bald_paths = [os.path.join(bald_directory, filename) for filename in os.listdir(bald_directory)]\n",
    "not_bald_paths = [os.path.join(not_bald_directory, filename) for filename in os.listdir(not_bald_directory)]\n"
   ]
  },
  {
   "cell_type": "code",
   "execution_count": 5,
   "metadata": {},
   "outputs": [],
   "source": [
    "import cv2\n",
    "import numpy as np\n",
    "\n",
    "def load_and_preprocess_images(file_paths, label):\n",
    "    images = []\n",
    "    labels = []\n",
    "\n",
    "    for path in file_paths:\n",
    "        image = cv2.imread(path)\n",
    "        image = cv2.resize(image, (48, 48)) \n",
    "        image = image / 255.0 \n",
    "        images.append(image)\n",
    "        labels.append(label)\n",
    "\n",
    "    return np.array(images), np.array(labels)\n",
    "\n",
    "\n",
    "X_bald, y_bald = load_and_preprocess_images(bald_paths, 1)\n",
    "X_not_bald, y_not_bald = load_and_preprocess_images(not_bald_paths, 0)\n"
   ]
  },
  {
   "cell_type": "code",
   "execution_count": 6,
   "metadata": {},
   "outputs": [],
   "source": [
    "\n",
    "X = np.concatenate([X_bald, X_not_bald])\n",
    "y = np.concatenate([y_bald, y_not_bald])\n"
   ]
  },
  {
   "cell_type": "code",
   "execution_count": 7,
   "metadata": {},
   "outputs": [],
   "source": [
    "from sklearn.model_selection import train_test_split\n",
    "X_train, X_val, y_train, y_val = train_test_split(X, y, test_size=0.2, random_state=42)\n"
   ]
  },
  {
   "cell_type": "code",
   "execution_count": 8,
   "metadata": {},
   "outputs": [],
   "source": [
    "\n",
    "from tensorflow import keras\n",
    "import tensorflow as tf\n",
    "from tensorflow import keras\n",
    "from keras import layers\n",
    "\n",
    "model = keras.Sequential([\n",
    "    layers.Conv2D(32, (3, 3), activation='relu', input_shape=(48, 48, 3)),\n",
    "    layers.MaxPooling2D((2, 2)),\n",
    "    layers.Flatten(),\n",
    "    layers.Dense(128, activation='relu'),\n",
    "    layers.Dense(1, activation='sigmoid') \n",
    "])\n",
    "\n",
    "model.compile(optimizer='adam', loss='binary_crossentropy', metrics=['accuracy'])\n"
   ]
  },
  {
   "cell_type": "code",
   "execution_count": 9,
   "metadata": {},
   "outputs": [
    {
     "name": "stdout",
     "output_type": "stream",
     "text": [
      "Epoch 1/10\n",
      "4000/4000 [==============================] - 191s 47ms/step - loss: 0.0656 - accuracy: 0.9781 - val_loss: 0.0522 - val_accuracy: 0.9799\n",
      "Epoch 2/10\n",
      "4000/4000 [==============================] - 180s 45ms/step - loss: 0.0496 - accuracy: 0.9809 - val_loss: 0.0509 - val_accuracy: 0.9790\n",
      "Epoch 3/10\n",
      "4000/4000 [==============================] - 181s 45ms/step - loss: 0.0418 - accuracy: 0.9839 - val_loss: 0.0483 - val_accuracy: 0.9811\n",
      "Epoch 4/10\n",
      "4000/4000 [==============================] - 184s 46ms/step - loss: 0.0352 - accuracy: 0.9863 - val_loss: 0.0566 - val_accuracy: 0.9805\n",
      "Epoch 5/10\n",
      "4000/4000 [==============================] - 187s 47ms/step - loss: 0.0277 - accuracy: 0.9892 - val_loss: 0.0576 - val_accuracy: 0.9820\n",
      "Epoch 6/10\n",
      "4000/4000 [==============================] - 186s 47ms/step - loss: 0.0209 - accuracy: 0.9919 - val_loss: 0.0627 - val_accuracy: 0.9787\n",
      "Epoch 7/10\n",
      "4000/4000 [==============================] - 187s 47ms/step - loss: 0.0141 - accuracy: 0.9946 - val_loss: 0.0675 - val_accuracy: 0.9805\n",
      "Epoch 8/10\n",
      "4000/4000 [==============================] - 187s 47ms/step - loss: 0.0103 - accuracy: 0.9964 - val_loss: 0.0862 - val_accuracy: 0.9811\n",
      "Epoch 9/10\n",
      "4000/4000 [==============================] - 188s 47ms/step - loss: 0.0075 - accuracy: 0.9973 - val_loss: 0.1106 - val_accuracy: 0.9795\n",
      "Epoch 10/10\n",
      "4000/4000 [==============================] - 187s 47ms/step - loss: 0.0056 - accuracy: 0.9980 - val_loss: 0.1108 - val_accuracy: 0.9808\n"
     ]
    },
    {
     "data": {
      "text/plain": [
       "<keras.src.callbacks.History at 0x14ae0e362d0>"
      ]
     },
     "execution_count": 9,
     "metadata": {},
     "output_type": "execute_result"
    }
   ],
   "source": [
    "\n",
    "model.fit(X_train, y_train, epochs=10, validation_data=(X_val, y_val))\n"
   ]
  },
  {
   "cell_type": "code",
   "execution_count": 10,
   "metadata": {},
   "outputs": [
    {
     "name": "stderr",
     "output_type": "stream",
     "text": [
      "c:\\Users\\Sunil\\AppData\\Local\\Programs\\Python\\Python311\\Lib\\site-packages\\keras\\src\\engine\\training.py:3079: UserWarning: You are saving your model as an HDF5 file via `model.save()`. This file format is considered legacy. We recommend using instead the native Keras format, e.g. `model.save('my_model.keras')`.\n",
      "  saving_api.save_model(\n"
     ]
    }
   ],
   "source": [
    "model.save('baldness_detection_model.h5')\n"
   ]
  }
 ],
 "metadata": {
  "kernelspec": {
   "display_name": "Python 3",
   "language": "python",
   "name": "python3"
  },
  "language_info": {
   "codemirror_mode": {
    "name": "ipython",
    "version": 3
   },
   "file_extension": ".py",
   "mimetype": "text/x-python",
   "name": "python",
   "nbconvert_exporter": "python",
   "pygments_lexer": "ipython3",
   "version": "3.11.4"
  }
 },
 "nbformat": 4,
 "nbformat_minor": 2
}
